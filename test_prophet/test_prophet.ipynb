import pandas as pd
from fbprophet import Prophet

#df = pd.read_csv('.../master_table.csv')
df = pd.read_csv('desktop/test_years.csv')

Prophet.fit(df)
future_years = Prophet.make_future_dataframe(periods = 1, freq = 'year')
forecast_years = Prophet.predict(future_years)

forecast_years[['ds', 'yhat', 'yhat_lower', 'yhat_upper']].tail()
